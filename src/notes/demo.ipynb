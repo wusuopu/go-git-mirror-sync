{
 "cells": [
  {
   "cell_type": "markdown",
   "id": "e709a7bf-c6eb-4e47-b546-1e37fc916d3a",
   "metadata": {},
   "source": [
    "# 应用程序的 repl Demo"
   ]
  },
  {
   "cell_type": "markdown",
   "id": "b650a793-5388-4ad1-87fd-b4b5604f274c",
   "metadata": {},
   "source": [
    "## 加载配置\n",
    "先初始化配置"
   ]
  },
  {
   "cell_type": "code",
   "execution_count": null,
   "id": "1724364f",
   "metadata": {},
   "outputs": [],
   "source": [
    "!*go mod edit -replace \"app=/app\""
   ]
  },
  {
   "cell_type": "code",
   "execution_count": 1,
   "id": "dfecc876-6c67-4b16-9e43-91418c3b8de4",
   "metadata": {},
   "outputs": [],
   "source": [
    "import (\n",
    "\t\"app/notes\"\n",
    "\t\"app/di\"\n",
    "\t\"app/models\"\n",
    ")"
   ]
  },
  {
   "cell_type": "code",
   "execution_count": 2,
   "id": "c2dd6399-4c90-4b2e-ab65-0d6af62320d0",
   "metadata": {},
   "outputs": [],
   "source": [
    "%%\n",
    "notes.Init(\"../.env\")"
   ]
  },
  {
   "cell_type": "code",
   "execution_count": null,
   "id": "3bb99027-b375-4ad2-9c36-4e00a55393f2",
   "metadata": {},
   "outputs": [],
   "source": []
  }
 ],
 "metadata": {
  "kernelspec": {
   "display_name": "Go",
   "language": "go",
   "name": "gophernotes"
  },
  "language_info": {
   "codemirror_mode": "",
   "file_extension": ".go",
   "mimetype": "",
   "name": "go",
   "nbconvert_exporter": "",
   "pygments_lexer": "",
   "version": "go1.21.6"
  }
 },
 "nbformat": 4,
 "nbformat_minor": 5
}
